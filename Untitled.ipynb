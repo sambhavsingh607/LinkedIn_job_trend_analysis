{
 "cells": [
  {
   "cell_type": "code",
   "execution_count": 1,
   "id": "9b8a0602-4fad-4907-9351-7cedb9b92eaf",
   "metadata": {},
   "outputs": [],
   "source": [
    "import requests\n",
    "from bs4 import BeautifulSoup\n",
    "import pandas as pd\n",
    "import seaborn as sns\n",
    "import matplotlib.pyplot as plt\n"
   ]
  },
  {
   "cell_type": "code",
   "execution_count": 3,
   "id": "0c7be7e2-de10-4b1a-8784-a33332f61274",
   "metadata": {},
   "outputs": [],
   "source": [
    "url = \"https://www.example.com/jobs\"  # Placeholder example\n",
    "headers = {'User-Agent': 'Mozilla/5.0'}\n",
    "\n",
    "response = requests.get(url, headers=headers)\n",
    "soup = BeautifulSoup(response.text, 'html.parser')\n"
   ]
  },
  {
   "cell_type": "code",
   "execution_count": 7,
   "id": "4ed66648-d32a-4db3-b25b-50beb5dc3af4",
   "metadata": {},
   "outputs": [],
   "source": [
    "import os\n",
    "os.makedirs('data', exist_ok=True)\n"
   ]
  },
  {
   "cell_type": "code",
   "execution_count": 11,
   "id": "cdbab321-ba73-40f8-9933-c5655d19e8d4",
   "metadata": {},
   "outputs": [],
   "source": [
    "data = {\n",
    "    'Title': ['Data Analyst', 'Data Engineer', 'Business Analyst', 'ML Engineer'],\n",
    "    'Company': ['TCS', 'Infosys', 'Wipro', 'Google'],\n",
    "    'Location': ['Bengaluru', 'Pune', 'Hyderabad', 'Bengaluru'],\n",
    "    'Skills': ['Python, SQL, Excel', 'AWS, Python, Spark', 'Excel, SQL, Tableau', 'Python, TensorFlow, Cloud']\n",
    "}\n"
   ]
  },
  {
   "cell_type": "code",
   "execution_count": 10,
   "id": "10e8eb95-3963-4313-8423-b04ba77ae498",
   "metadata": {},
   "outputs": [
    {
     "data": {
      "text/html": [
       "<div>\n",
       "<style scoped>\n",
       "    .dataframe tbody tr th:only-of-type {\n",
       "        vertical-align: middle;\n",
       "    }\n",
       "\n",
       "    .dataframe tbody tr th {\n",
       "        vertical-align: top;\n",
       "    }\n",
       "\n",
       "    .dataframe thead th {\n",
       "        text-align: right;\n",
       "    }\n",
       "</style>\n",
       "<table border=\"1\" class=\"dataframe\">\n",
       "  <thead>\n",
       "    <tr style=\"text-align: right;\">\n",
       "      <th></th>\n",
       "      <th>Title</th>\n",
       "      <th>Company</th>\n",
       "      <th>Location</th>\n",
       "      <th>Skills</th>\n",
       "    </tr>\n",
       "  </thead>\n",
       "  <tbody>\n",
       "    <tr>\n",
       "      <th>0</th>\n",
       "      <td>Data Analyst</td>\n",
       "      <td>TCS</td>\n",
       "      <td>Bengaluru</td>\n",
       "      <td>Python, SQL, Excel</td>\n",
       "    </tr>\n",
       "    <tr>\n",
       "      <th>1</th>\n",
       "      <td>Data Engineer</td>\n",
       "      <td>Infosys</td>\n",
       "      <td>Pune</td>\n",
       "      <td>AWS, Python, Spark</td>\n",
       "    </tr>\n",
       "    <tr>\n",
       "      <th>2</th>\n",
       "      <td>Business Analyst</td>\n",
       "      <td>Wipro</td>\n",
       "      <td>Hyderabad</td>\n",
       "      <td>Excel, SQL, Tableau</td>\n",
       "    </tr>\n",
       "    <tr>\n",
       "      <th>3</th>\n",
       "      <td>ML Engineer</td>\n",
       "      <td>Google</td>\n",
       "      <td>Bengaluru</td>\n",
       "      <td>Python, TensorFlow, Cloud</td>\n",
       "    </tr>\n",
       "  </tbody>\n",
       "</table>\n",
       "</div>"
      ],
      "text/plain": [
       "              Title  Company   Location                     Skills\n",
       "0      Data Analyst      TCS  Bengaluru         Python, SQL, Excel\n",
       "1     Data Engineer  Infosys       Pune         AWS, Python, Spark\n",
       "2  Business Analyst    Wipro  Hyderabad        Excel, SQL, Tableau\n",
       "3       ML Engineer   Google  Bengaluru  Python, TensorFlow, Cloud"
      ]
     },
     "execution_count": 10,
     "metadata": {},
     "output_type": "execute_result"
    }
   ],
   "source": [
    "import pandas as pd\n",
    "df = pd.read_csv('data/mock_jobs.csv')\n",
    "df.head()\n"
   ]
  },
  {
   "cell_type": "code",
   "execution_count": 12,
   "id": "82181704-1ce3-4067-8537-ea0eb77db732",
   "metadata": {},
   "outputs": [
    {
     "data": {
      "text/html": [
       "<div>\n",
       "<style scoped>\n",
       "    .dataframe tbody tr th:only-of-type {\n",
       "        vertical-align: middle;\n",
       "    }\n",
       "\n",
       "    .dataframe tbody tr th {\n",
       "        vertical-align: top;\n",
       "    }\n",
       "\n",
       "    .dataframe thead th {\n",
       "        text-align: right;\n",
       "    }\n",
       "</style>\n",
       "<table border=\"1\" class=\"dataframe\">\n",
       "  <thead>\n",
       "    <tr style=\"text-align: right;\">\n",
       "      <th></th>\n",
       "      <th>Title</th>\n",
       "      <th>Company</th>\n",
       "      <th>Location</th>\n",
       "      <th>Skills</th>\n",
       "      <th>City</th>\n",
       "    </tr>\n",
       "  </thead>\n",
       "  <tbody>\n",
       "    <tr>\n",
       "      <th>0</th>\n",
       "      <td>Data Analyst</td>\n",
       "      <td>Tcs</td>\n",
       "      <td>Bengaluru</td>\n",
       "      <td>Python, SQL, Excel</td>\n",
       "      <td>Bengaluru</td>\n",
       "    </tr>\n",
       "    <tr>\n",
       "      <th>1</th>\n",
       "      <td>Data Engineer</td>\n",
       "      <td>Infosys</td>\n",
       "      <td>Pune</td>\n",
       "      <td>AWS, Python, Spark</td>\n",
       "      <td>Pune</td>\n",
       "    </tr>\n",
       "    <tr>\n",
       "      <th>2</th>\n",
       "      <td>Business Analyst</td>\n",
       "      <td>Wipro</td>\n",
       "      <td>Hyderabad</td>\n",
       "      <td>Excel, SQL, Tableau</td>\n",
       "      <td>Hyderabad</td>\n",
       "    </tr>\n",
       "    <tr>\n",
       "      <th>3</th>\n",
       "      <td>Ml Engineer</td>\n",
       "      <td>Google</td>\n",
       "      <td>Bengaluru</td>\n",
       "      <td>Python, TensorFlow, Cloud</td>\n",
       "      <td>Bengaluru</td>\n",
       "    </tr>\n",
       "  </tbody>\n",
       "</table>\n",
       "</div>"
      ],
      "text/plain": [
       "              Title  Company   Location                     Skills       City\n",
       "0      Data Analyst      Tcs  Bengaluru         Python, SQL, Excel  Bengaluru\n",
       "1     Data Engineer  Infosys       Pune         AWS, Python, Spark       Pune\n",
       "2  Business Analyst    Wipro  Hyderabad        Excel, SQL, Tableau  Hyderabad\n",
       "3       Ml Engineer   Google  Bengaluru  Python, TensorFlow, Cloud  Bengaluru"
      ]
     },
     "execution_count": 12,
     "metadata": {},
     "output_type": "execute_result"
    }
   ],
   "source": [
    "df['Location'] = df['Location'].str.strip()\n",
    "df['Title'] = df['Title'].str.title()\n",
    "df['Company'] = df['Company'].str.title()\n",
    "\n",
    "# Extract City (if you had multi-part locations)\n",
    "df['City'] = df['Location']\n",
    "df.head()\n"
   ]
  },
  {
   "cell_type": "code",
   "execution_count": 13,
   "id": "5ff3a9bf-76fc-4c57-967e-54b9c63f0abc",
   "metadata": {},
   "outputs": [
    {
     "data": {
      "text/html": [
       "<div>\n",
       "<style scoped>\n",
       "    .dataframe tbody tr th:only-of-type {\n",
       "        vertical-align: middle;\n",
       "    }\n",
       "\n",
       "    .dataframe tbody tr th {\n",
       "        vertical-align: top;\n",
       "    }\n",
       "\n",
       "    .dataframe thead th {\n",
       "        text-align: right;\n",
       "    }\n",
       "</style>\n",
       "<table border=\"1\" class=\"dataframe\">\n",
       "  <thead>\n",
       "    <tr style=\"text-align: right;\">\n",
       "      <th></th>\n",
       "      <th>Title</th>\n",
       "      <th>Company</th>\n",
       "      <th>Location</th>\n",
       "      <th>Skills</th>\n",
       "      <th>City</th>\n",
       "    </tr>\n",
       "  </thead>\n",
       "  <tbody>\n",
       "    <tr>\n",
       "      <th>0</th>\n",
       "      <td>Data Analyst</td>\n",
       "      <td>Tcs</td>\n",
       "      <td>Bengaluru</td>\n",
       "      <td>[python, sql, excel]</td>\n",
       "      <td>Bengaluru</td>\n",
       "    </tr>\n",
       "    <tr>\n",
       "      <th>1</th>\n",
       "      <td>Data Engineer</td>\n",
       "      <td>Infosys</td>\n",
       "      <td>Pune</td>\n",
       "      <td>[aws, python, spark]</td>\n",
       "      <td>Pune</td>\n",
       "    </tr>\n",
       "    <tr>\n",
       "      <th>2</th>\n",
       "      <td>Business Analyst</td>\n",
       "      <td>Wipro</td>\n",
       "      <td>Hyderabad</td>\n",
       "      <td>[excel, sql, tableau]</td>\n",
       "      <td>Hyderabad</td>\n",
       "    </tr>\n",
       "    <tr>\n",
       "      <th>3</th>\n",
       "      <td>Ml Engineer</td>\n",
       "      <td>Google</td>\n",
       "      <td>Bengaluru</td>\n",
       "      <td>[python, tensorflow, cloud]</td>\n",
       "      <td>Bengaluru</td>\n",
       "    </tr>\n",
       "  </tbody>\n",
       "</table>\n",
       "</div>"
      ],
      "text/plain": [
       "              Title  Company   Location                       Skills  \\\n",
       "0      Data Analyst      Tcs  Bengaluru         [python, sql, excel]   \n",
       "1     Data Engineer  Infosys       Pune         [aws, python, spark]   \n",
       "2  Business Analyst    Wipro  Hyderabad        [excel, sql, tableau]   \n",
       "3       Ml Engineer   Google  Bengaluru  [python, tensorflow, cloud]   \n",
       "\n",
       "        City  \n",
       "0  Bengaluru  \n",
       "1       Pune  \n",
       "2  Hyderabad  \n",
       "3  Bengaluru  "
      ]
     },
     "execution_count": 13,
     "metadata": {},
     "output_type": "execute_result"
    }
   ],
   "source": [
    "# Convert skills to lowercase, remove commas, and split into lists\n",
    "df['Skills'] = df['Skills'].str.lower().str.replace(',', '').str.split()\n",
    "\n",
    "df.head()\n"
   ]
  },
  {
   "cell_type": "code",
   "execution_count": 14,
   "id": "602fdcf4-34f7-4458-853d-ba5cbc61a5ec",
   "metadata": {},
   "outputs": [
    {
     "name": "stdout",
     "output_type": "stream",
     "text": [
      "python        3\n",
      "sql           2\n",
      "excel         2\n",
      "aws           1\n",
      "spark         1\n",
      "tableau       1\n",
      "tensorflow    1\n",
      "cloud         1\n",
      "Name: count, dtype: int64\n"
     ]
    }
   ],
   "source": [
    "# Flatten all skills into one list\n",
    "all_skills = [skill for sublist in df['Skills'] for skill in sublist]\n",
    "\n",
    "# Count frequency\n",
    "skill_counts = pd.Series(all_skills).value_counts()\n",
    "\n",
    "print(skill_counts)\n"
   ]
  },
  {
   "cell_type": "code",
   "execution_count": 15,
   "id": "9056af76-dbf1-4fa0-afc9-fa0b613ca9e5",
   "metadata": {},
   "outputs": [
    {
     "data": {
      "image/png": "[encoded data removed]",
      "text/plain": [
       "<Figure size 800x500 with 1 Axes>"
      ]
     },
     "metadata": {},
     "output_type": "display_data"
    }
   ],
   "source": [
    "import seaborn as sns\n",
    "import matplotlib.pyplot as plt\n",
    "\n",
    "plt.figure(figsize=(8,5))\n",
    "sns.barplot(x=skill_counts.values, y=skill_counts.index)\n",
    "plt.title(\"Top In-Demand Skills (Mock LinkedIn Data)\")\n",
    "plt.xlabel(\"Frequency\")\n",
    "plt.ylabel(\"Skills\")\n",
    "plt.show()\n"
   ]
  },
  {
   "cell_type": "code",
   "execution_count": 16,
   "id": "631dda49-8705-4092-aa22-daf870290bfb",
   "metadata": {},
   "outputs": [],
   "source": [
    "skills = ['python', 'sql', 'excel', 'aws', 'spark', 'tableau', 'cloud', 'tensorflow']\n"
   ]
  },
  {
   "cell_type": "code",
   "execution_count": 17,
   "id": "6878408b-bcc8-4c33-8a1a-90c74f5c6314",
   "metadata": {},
   "outputs": [],
   "source": [
    "for skill in skills:\n",
    "    df[skill] = df['Skills'].apply(lambda x: skill in x)\n"
   ]
  },
  {
   "cell_type": "code",
   "execution_count": 18,
   "id": "aa7563ef-5656-4bd5-998b-09d6d60dc163",
   "metadata": {},
   "outputs": [
    {
     "data": {
      "text/html": [
       "<div>\n",
       "<style scoped>\n",
       "    .dataframe tbody tr th:only-of-type {\n",
       "        vertical-align: middle;\n",
       "    }\n",
       "\n",
       "    .dataframe tbody tr th {\n",
       "        vertical-align: top;\n",
       "    }\n",
       "\n",
       "    .dataframe thead th {\n",
       "        text-align: right;\n",
       "    }\n",
       "</style>\n",
       "<table border=\"1\" class=\"dataframe\">\n",
       "  <thead>\n",
       "    <tr style=\"text-align: right;\">\n",
       "      <th></th>\n",
       "      <th>python</th>\n",
       "      <th>sql</th>\n",
       "      <th>excel</th>\n",
       "      <th>aws</th>\n",
       "      <th>spark</th>\n",
       "      <th>tableau</th>\n",
       "      <th>cloud</th>\n",
       "      <th>tensorflow</th>\n",
       "    </tr>\n",
       "    <tr>\n",
       "      <th>Title</th>\n",
       "      <th></th>\n",
       "      <th></th>\n",
       "      <th></th>\n",
       "      <th></th>\n",
       "      <th></th>\n",
       "      <th></th>\n",
       "      <th></th>\n",
       "      <th></th>\n",
       "    </tr>\n",
       "  </thead>\n",
       "  <tbody>\n",
       "    <tr>\n",
       "      <th>Business Analyst</th>\n",
       "      <td>0</td>\n",
       "      <td>1</td>\n",
       "      <td>1</td>\n",
       "      <td>0</td>\n",
       "      <td>0</td>\n",
       "      <td>1</td>\n",
       "      <td>0</td>\n",
       "      <td>0</td>\n",
       "    </tr>\n",
       "    <tr>\n",
       "      <th>Data Analyst</th>\n",
       "      <td>1</td>\n",
       "      <td>1</td>\n",
       "      <td>1</td>\n",
       "      <td>0</td>\n",
       "      <td>0</td>\n",
       "      <td>0</td>\n",
       "      <td>0</td>\n",
       "      <td>0</td>\n",
       "    </tr>\n",
       "    <tr>\n",
       "      <th>Data Engineer</th>\n",
       "      <td>1</td>\n",
       "      <td>0</td>\n",
       "      <td>0</td>\n",
       "      <td>1</td>\n",
       "      <td>1</td>\n",
       "      <td>0</td>\n",
       "      <td>0</td>\n",
       "      <td>0</td>\n",
       "    </tr>\n",
       "    <tr>\n",
       "      <th>Ml Engineer</th>\n",
       "      <td>1</td>\n",
       "      <td>0</td>\n",
       "      <td>0</td>\n",
       "      <td>0</td>\n",
       "      <td>0</td>\n",
       "      <td>0</td>\n",
       "      <td>1</td>\n",
       "      <td>1</td>\n",
       "    </tr>\n",
       "  </tbody>\n",
       "</table>\n",
       "</div>"
      ],
      "text/plain": [
       "                  python  sql  excel  aws  spark  tableau  cloud  tensorflow\n",
       "Title                                                                       \n",
       "Business Analyst       0    1      1    0      0        1      0           0\n",
       "Data Analyst           1    1      1    0      0        0      0           0\n",
       "Data Engineer          1    0      0    1      1        0      0           0\n",
       "Ml Engineer            1    0      0    0      0        0      1           1"
      ]
     },
     "execution_count": 18,
     "metadata": {},
     "output_type": "execute_result"
    }
   ],
   "source": [
    "matrix = df.groupby('Title')[skills].sum()\n",
    "matrix\n"
   ]
  },
  {
   "cell_type": "code",
   "execution_count": 19,
   "id": "f10c1448-b783-4925-8121-3af843738f6f",
   "metadata": {},
   "outputs": [
    {
     "data": {
      "image/png": "[encoded data removed]",
      "text/plain": [
       "<Figure size 800x500 with 2 Axes>"
      ]
     },
     "metadata": {},
     "output_type": "display_data"
    }
   ],
   "source": [
    "plt.figure(figsize=(8,5))\n",
    "sns.heatmap(matrix, annot=True, cmap=\"YlGnBu\")\n",
    "plt.title(\"Skill vs Role Matrix\")\n",
    "plt.show()\n"
   ]
  },
  {
   "cell_type": "code",
   "execution_count": 20,
   "id": "75782811-ddac-4aa5-9b86-c057dd000f9f",
   "metadata": {},
   "outputs": [
    {
     "name": "stdout",
     "output_type": "stream",
     "text": [
      "✅ Data saved successfully in Excel files inside the 'data' folder.\n"
     ]
    }
   ],
   "source": [
    "df.to_excel('data/cleaned_job_data.xlsx', index=False)\n",
    "matrix.to_excel('data/skill_role_matrix.xlsx')\n",
    "\n",
    "print(\"✅ Data saved successfully in Excel files inside the 'data' folder.\")\n"
   ]
  },
  {
   "cell_type": "code",
   "execution_count": 21,
   "id": "047c0424-2f82-4e20-a1d0-95da198e15e0",
   "metadata": {},
   "outputs": [
    {
     "data": {
      "image/png": "[encoded data removed]",
      "text/plain": [
       "<Figure size 800x500 with 2 Axes>"
      ]
     },
     "metadata": {},
     "output_type": "display_data"
    }
   ],
   "source": [
    "pivot = df.groupby('City')[skills].sum()\n",
    "\n",
    "plt.figure(figsize=(8,5))\n",
    "sns.heatmap(pivot, annot=True, cmap='coolwarm')\n",
    "plt.title(\"Top Skills by City\")\n",
    "plt.show()\n"
   ]
  },
  {
   "cell_type": "code",
   "execution_count": 22,
   "id": "0a5a2ad8-3dbe-432a-b389-698399da9f1b",
   "metadata": {},
   "outputs": [
    {
     "name": "stdout",
     "output_type": "stream",
     "text": [
      "📊 Top 5 Most In-Demand Skills:\n",
      "1. Python – 3 job(s)\n",
      "2. Sql – 2 job(s)\n",
      "3. Excel – 2 job(s)\n",
      "4. Aws – 1 job(s)\n",
      "5. Spark – 1 job(s)\n"
     ]
    }
   ],
   "source": [
    "# Top 5 most in-demand skills\n",
    "top_skills = skill_counts.head(5)\n",
    "\n",
    "print(\"📊 Top 5 Most In-Demand Skills:\")\n",
    "for i, (skill, count) in enumerate(top_skills.items(), start=1):\n",
    "    print(f\"{i}. {skill.capitalize()} – {count} job(s)\")\n"
   ]
  },
  {
   "cell_type": "code",
   "execution_count": 23,
   "id": "35bc1bb6-6435-4144-8cd8-b9716cf0ebd5",
   "metadata": {},
   "outputs": [
    {
     "name": "stdout",
     "output_type": "stream",
     "text": [
      "💼 Business Analyst roles commonly require: Sql, Excel, Tableau\n",
      "💼 Data Analyst roles commonly require: Python, Sql, Excel\n",
      "💼 Data Engineer roles commonly require: Python, Aws, Spark\n",
      "💼 Ml Engineer roles commonly require: Python, Cloud, Tensorflow\n"
     ]
    }
   ],
   "source": [
    "for role in matrix.index:\n",
    "    top_role_skills = matrix.loc[role][matrix.loc[role] > 0].index.tolist()\n",
    "    print(f\"💼 {role} roles commonly require: {', '.join(top_role_skills).title()}\")\n"
   ]
  },
  {
   "cell_type": "code",
   "execution_count": 24,
   "id": "9388fb61-bf63-4aaa-bb86-49f2e01cca3a",
   "metadata": {},
   "outputs": [
    {
     "name": "stdout",
     "output_type": "stream",
     "text": [
      "📍 In Bengaluru, top demanded skills are: Python, Sql, Excel\n",
      "📍 In Pune, top demanded skills are: Aws, Python, Spark\n",
      "📍 In Hyderabad, top demanded skills are: Excel, Sql, Tableau\n"
     ]
    }
   ],
   "source": [
    "for city in df['City'].unique():\n",
    "    top_city_skills = df[df['City'] == city]\n",
    "    all_city_skills = [skill for sublist in top_city_skills['Skills'] for skill in sublist]\n",
    "    city_skill_counts = pd.Series(all_city_skills).value_counts().head(3)\n",
    "    print(f\"📍 In {city}, top demanded skills are: {', '.join(city_skill_counts.index).title()}\")\n"
   ]
  },
  {
   "cell_type": "code",
   "execution_count": 25,
   "id": "8b325c1f-a113-4bc8-8b21-6786436f0a43",
   "metadata": {},
   "outputs": [
    {
     "name": "stdout",
     "output_type": "stream",
     "text": [
      "\n",
      "🔍 LinkedIn Job Trend Analysis Summary\n",
      "\n",
      "From the analyzed dataset, the most in-demand skills are python, sql, excel.\n",
      "Python appears as the top skill across multiple roles, showing its dominance in analytics and engineering domains.\n",
      "\n",
      "Data Analyst and Data Engineer positions focus heavily on technical proficiency (Python, SQL, AWS, Spark),\n",
      "while Business Analyst roles lean towards analytical tools like Excel and Tableau.\n",
      "\n",
      "Among the listed cities, Bengaluru shows the highest diversity of roles,\n",
      "indicating it as a strong hub for data-related opportunities.\n",
      "\n",
      "✅ Recommendation:\n",
      "Candidates aiming for data roles should focus on strengthening Python, SQL, and Excel first,\n",
      "followed by upskilling in cloud and visualization tools like AWS and Tableau for better employability.\n",
      "\n"
     ]
    }
   ],
   "source": [
    "summary = f\"\"\"\n",
    "🔍 LinkedIn Job Trend Analysis Summary\n",
    "\n",
    "From the analyzed dataset, the most in-demand skills are {', '.join(top_skills.index[:3])}.\n",
    "Python appears as the top skill across multiple roles, showing its dominance in analytics and engineering domains.\n",
    "\n",
    "Data Analyst and Data Engineer positions focus heavily on technical proficiency (Python, SQL, AWS, Spark),\n",
    "while Business Analyst roles lean towards analytical tools like Excel and Tableau.\n",
    "\n",
    "Among the listed cities, Bengaluru shows the highest diversity of roles,\n",
    "indicating it as a strong hub for data-related opportunities.\n",
    "\n",
    "✅ Recommendation:\n",
    "Candidates aiming for data roles should focus on strengthening Python, SQL, and Excel first,\n",
    "followed by upskilling in cloud and visualization tools like AWS and Tableau for better employability.\n",
    "\"\"\"\n",
    "\n",
    "print(summary)\n"
   ]
  },
  {
   "cell_type": "code",
   "execution_count": null,
   "id": "9a3683e1-fb8a-4ef5-8c42-e12dedc3bed1",
   "metadata": {},
   "outputs": [],
   "source": []
  }
 ],
 "metadata": {
  "kernelspec": {
   "display_name": "Python 3 (ipykernel)",
   "language": "python",
   "name": "python3"
  },
  "language_info": {
   "codemirror_mode": {
    "name": "ipython",
    "version": 3
   },
   "file_extension": ".py",
   "mimetype": "text/x-python",
   "name": "python",
   "nbconvert_exporter": "python",
   "pygments_lexer": "ipython3",
   "version": "3.13.5"
  }
 },
 "nbformat": 4,
 "nbformat_minor": 5
}
